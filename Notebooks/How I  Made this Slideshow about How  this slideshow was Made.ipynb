{
 "cells": [
  {
   "cell_type": "markdown",
   "metadata": {
    "slideshow": {
     "slide_type": "slide"
    }
   },
   "source": [
    "# How I Made this Slideshow...about how this slideshow was made\n",
    "\n",
    "## John McCallum June 2015"
   ]
  },
  {
   "cell_type": "markdown",
   "metadata": {
    "slideshow": {
     "slide_type": "slide"
    }
   },
   "source": [
    "## Say What ?\n",
    "\n",
    "\n",
    "- How I made my computer able to make it\n",
    "- How I made it\n",
    "- How I published it to the web"
   ]
  },
  {
   "cell_type": "markdown",
   "metadata": {
    "slideshow": {
     "slide_type": "slide"
    }
   },
   "source": [
    "# Im a.. [Jupyter Notebook](https://jupyter.org/) \n",
    "![Jupy](https://avatars3.githubusercontent.com/u/7388996?v=3&s=200)\n",
    "- the notebook formerly known as .. **iPython Notebook**\n",
    "- not just Python...R, Perl, Octave, Haskell and many more\n",
    "- you could say I'm an \n",
    ">##\"Web-ready, executable explanation\"\n",
    "\n"
   ]
  },
  {
   "cell_type": "markdown",
   "metadata": {
    "slideshow": {
     "slide_type": "slide"
    }
   },
   "source": [
    "## All is explained... in [Markdown](https://en.wikipedia.org/wiki/Markdown)\n",
    "\n",
    "```\n",
    "# Im a.. [Jupyter Notebook](https://jupyter.org/) \n",
    "![Jupy](https://avatars3.githubusercontent.com/u/7388996?v=3&s=200)\n",
    "- the notebook formerly known as .. **iPython Notebook**\n",
    "- not just Python...R, Perl, Octave, Haskell and many more\n",
    "- you could say I'm an \n",
    ">##\"Web-ready, executable explanation\"\n",
    "```\n",
    "\n"
   ]
  },
  {
   "cell_type": "markdown",
   "metadata": {
    "slideshow": {
     "slide_type": "slide"
    }
   },
   "source": [
    "## Making Windows Make Py + R Notebooks\n",
    "\n",
    "###   Python\n",
    "\n",
    "- [Anaconda]()\n",
    "\n",
    "###  R\n",
    "- [R]()  [Rstudio]()\n",
    "-[ R kernel](http://irkernel.github.io/)\n",
    "\n",
    "```\n",
    "install.packages(c('rzmq','repr','IRkernel','IRdisplay'),\n",
    "+                  repos = c('http://irkernel.github.io/', getOption('repos')))\n",
    "```\n",
    "    \n",
    "    - "
   ]
  },
  {
   "cell_type": "markdown",
   "metadata": {
    "slideshow": {
     "slide_type": "slide"
    }
   },
   "source": [
    "## Git + other Essentials\n",
    "\n",
    "- get an account at [Github.com](github.com)\n",
    "- download and install [mysysgit ]() \n",
    "- install [Ruby for Windows]()\n",
    "- install a **gister** \n",
    "    - open up a Bash shell (Right-click in a file explorer \"Git Bash here\"\n",
    "    ```\n",
    "    gem install gist\n",
    "    ```\n",
    "    - authenticate with your Github credentials\n",
    "    ```\n",
    "    gist --login\n",
    "    ```\n",
    "    "
   ]
  },
  {
   "cell_type": "markdown",
   "metadata": {
    "slideshow": {
     "slide_type": "slide"
    }
   },
   "source": [
    "## Install the Reveal Slideshow\n",
    "\n",
    "```\n",
    "git clone https://github.com/damianavila/RISE\n",
    "cd RISE\n",
    "python setup.py install\n",
    "```"
   ]
  },
  {
   "cell_type": "markdown",
   "metadata": {
    "slideshow": {
     "slide_type": "slide"
    }
   },
   "source": [
    "## Start a local Jupyter Instance\n",
    "\n",
    "- navigate in file explorer (or bash shell) to directory where you want to work from\n",
    "- open a Git Bash shell\n",
    "```\n",
    "ipython notebook\n",
    "```\n",
    "- browse to http://localhost:8888/\n",
    "- navigate to folder where you want to create presentation\n",
    "- select New -> Python or R notebook"
   ]
  },
  {
   "cell_type": "markdown",
   "metadata": {
    "slideshow": {
     "slide_type": "slide"
    }
   },
   "source": [
    "## Authoring\n",
    "\n",
    "- Activate slideshow toolbar **Cell Toolbar** > *Slideshow*\n",
    "- select **Slide type** > _slide_ for header cell of each slide\n",
    "- write Markdown or code cells and execute (ctrl-enter) \n",
    "- view (and even edit) as Live slideshow by clicking the slideshow icon"
   ]
  },
  {
   "cell_type": "markdown",
   "metadata": {
    "slideshow": {
     "slide_type": "slide"
    }
   },
   "source": [
    "## Show and Tell\n",
    "\n",
    "- push to Github --notebooks will be rendered\n",
    "- push to a Gist\n",
    "    - open Git Bash shell where notebook is\n",
    "    - push to a secret gist at gist.github.com\n",
    " "
   ]
  },
  {
   "cell_type": "code",
   "execution_count": 5,
   "metadata": {
    "collapsed": false
   },
   "outputs": [
    {
     "name": "stdout",
     "output_type": "stream",
     "text": [
      "https://gist.github.com/ea2aec64cc5c9538a301\n"
     ]
    }
   ],
   "source": [
    "!gist -p -d 'How to make a Jupyter Slideshow about making a Slideshow'  'How I  Made this Slideshow about How  this slideshow was Made.ipynb'"
   ]
  },
  {
   "cell_type": "markdown",
   "metadata": {},
   "source": [
    "Now we can see the raw Notebook JSON file at this URL or a rendered version at http://nbviewer.ipython.org/format/slides/gist/cfljam/ea2aec64cc5c9538a301#/\n",
    "\n",
    "We can update this by executing the following cell"
   ]
  },
  {
   "cell_type": "code",
   "execution_count": 6,
   "metadata": {
    "collapsed": false
   },
   "outputs": [
    {
     "name": "stdout",
     "output_type": "stream",
     "text": [
      "https://gist.github.com/ea2aec64cc5c9538a301\n"
     ]
    }
   ],
   "source": [
    "!gist -u https://gist.github.com/ea2aec64cc5c9538a301 'How I  Made this Slideshow about How  this slideshow was Made.ipynb'"
   ]
  }
 ],
 "metadata": {
  "celltoolbar": "Slideshow",
  "kernelspec": {
   "display_name": "Python 2",
   "language": "python",
   "name": "python2"
  },
  "language_info": {
   "codemirror_mode": {
    "name": "ipython",
    "version": 2
   },
   "file_extension": ".py",
   "mimetype": "text/x-python",
   "name": "python",
   "nbconvert_exporter": "python",
   "pygments_lexer": "ipython2",
   "version": "2.7.9"
  }
 },
 "nbformat": 4,
 "nbformat_minor": 0
}
